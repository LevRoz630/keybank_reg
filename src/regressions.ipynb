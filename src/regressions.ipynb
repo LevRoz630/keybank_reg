{
 "cells": [
  {
   "cell_type": "code",
   "execution_count": 2,
   "metadata": {},
   "outputs": [
    {
     "name": "stdout",
     "output_type": "stream",
     "text": [
      "                            OLS Regression Results                            \n",
      "==============================================================================\n",
      "Dep. Variable:                 Income   R-squared:                       1.000\n",
      "Model:                            OLS   Adj. R-squared:                  1.000\n",
      "Method:                 Least Squares   F-statistic:                 2.186e+28\n",
      "Date:                Thu, 03 Apr 2025   Prob (F-statistic):           4.97e-15\n",
      "Time:                        13:22:37   Log-Likelihood:                 111.00\n",
      "No. Observations:                   5   AIC:                            -214.0\n",
      "Df Residuals:                       1   BIC:                            -215.6\n",
      "Df Model:                           3                                         \n",
      "Covariance Type:            nonrobust                                         \n",
      "==============================================================================\n",
      "                 coef    std err          t      P>|t|      [0.025      0.975]\n",
      "------------------------------------------------------------------------------\n",
      "const        9.08e-11   3.32e-10      0.273      0.830   -4.13e-09    4.32e-09\n",
      "Age         2000.0000   1.23e-11   1.62e+14      0.000    2000.000    2000.000\n",
      "Married    -4.627e-11   1.95e-10     -0.237      0.852   -2.53e-09    2.43e-09\n",
      "Divorced   -4.084e-11   2.39e-10     -0.171      0.892   -3.08e-09       3e-09\n",
      "==============================================================================\n",
      "Omnibus:                          nan   Durbin-Watson:                   0.125\n",
      "Prob(Omnibus):                    nan   Jarque-Bera (JB):                1.888\n",
      "Skew:                          -1.500   Prob(JB):                        0.389\n",
      "Kurtosis:                       3.250   Cond. No.                         249.\n",
      "==============================================================================\n",
      "\n",
      "Notes:\n",
      "[1] Standard Errors assume that the covariance matrix of the errors is correctly specified.\n"
     ]
    },
    {
     "name": "stderr",
     "output_type": "stream",
     "text": [
      "c:\\Users\\Admin\\AppData\\Local\\Programs\\Python\\Python311\\Lib\\site-packages\\statsmodels\\stats\\stattools.py:74: ValueWarning: omni_normtest is not valid with less than 8 observations; 5 samples were given.\n",
      "  warn(\"omni_normtest is not valid with less than 8 observations; %i \"\n"
     ]
    }
   ],
   "source": [
    "# Example of using dummy variables in a regression model\n",
    "import statsmodels.api as sm\n",
    "import pandas as pd\n",
    "# Sample data\n",
    "data = {'Age': [25, 30, 35, 40, 45],\n",
    "'Income': [50000, 60000, 70000, 80000, 90000],\n",
    "'Married': [0, 1, 0, 1, 0],\n",
    "'Divorced': [0, 0, 1, 0, 1]}\n",
    "df = pd.DataFrame(data)\n",
    "\n",
    "# Defining the predictor variables (including dummy variables) and the response variable\n",
    "X = df[['Age', 'Married', 'Divorced']]\n",
    "y = df['Income']\n",
    "\n",
    "# Adding a constant term for the intercept\n",
    "X = sm.add_constant(X)\n",
    "\n",
    "# Fitting the regression model\n",
    "model = sm.OLS(y, X).fit()\n",
    "\n",
    "# Printing the summary of the regression model\n",
    "print(model.summary())"
   ]
  },
  {
   "cell_type": "code",
   "execution_count": null,
   "metadata": {},
   "outputs": [],
   "source": []
  }
 ],
 "metadata": {
  "kernelspec": {
   "display_name": "Python 3",
   "language": "python",
   "name": "python3"
  },
  "language_info": {
   "codemirror_mode": {
    "name": "ipython",
    "version": 3
   },
   "file_extension": ".py",
   "mimetype": "text/x-python",
   "name": "python",
   "nbconvert_exporter": "python",
   "pygments_lexer": "ipython3",
   "version": "3.11.0"
  }
 },
 "nbformat": 4,
 "nbformat_minor": 2
}
