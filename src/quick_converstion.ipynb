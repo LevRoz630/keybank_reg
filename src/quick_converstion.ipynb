{
 "cells": [
  {
   "cell_type": "code",
   "execution_count": 5,
   "metadata": {},
   "outputs": [
    {
     "name": "stdout",
     "output_type": "stream",
     "text": [
      "Converted consumer_loans_leases_proportion_NA.ods to consumer_loans_leases_proportion_NA.csv\n",
      "Converted C_I_loans_foreign_NA.ods to C_I_loans_foreign_NA.csv\n",
      "Converted C_I_loans_NA.ods to C_I_loans_NA.csv\n",
      "Converted C_L_proportion_NA.ods to C_L_proportion_NA.csv\n"
     ]
    }
   ],
   "source": [
    "import pandas as pd\n",
    "import os\n",
    "\n",
    "# Define the directory containing the files\n",
    "directory = r\"C:\\Users\\Admin\\Documents\\GitHub\\keybank_reg\\data\\NA\\loans\"  # Replace with your folder path if different\n",
    "\n",
    "for filename in os.listdir(directory):\n",
    "    if filename.endswith(\".ods\"):\n",
    "        file_path = os.path.join(directory, filename)\n",
    "        \n",
    "        # Read the Excel file\n",
    "        excel_data = pd.read_excel(file_path)\n",
    "        \n",
    "        csv_filename = filename.replace(\".ods\", \".csv\")\n",
    "        csv_path = os.path.join(directory, csv_filename)\n",
    "    \n",
    "        excel_data.to_csv(csv_path, index=False)\n",
    "        \n",
    "        print(f\"Converted {filename} to {csv_filename}\")\n"
   ]
  },
  {
   "cell_type": "code",
   "execution_count": null,
   "metadata": {},
   "outputs": [],
   "source": []
  }
 ],
 "metadata": {
  "kernelspec": {
   "display_name": "Python 3",
   "language": "python",
   "name": "python3"
  },
  "language_info": {
   "codemirror_mode": {
    "name": "ipython",
    "version": 3
   },
   "file_extension": ".py",
   "mimetype": "text/x-python",
   "name": "python",
   "nbconvert_exporter": "python",
   "pygments_lexer": "ipython3",
   "version": "3.11.0"
  }
 },
 "nbformat": 4,
 "nbformat_minor": 2
}
